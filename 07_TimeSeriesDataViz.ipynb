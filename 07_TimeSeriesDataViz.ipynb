{
  "cells": [
    {
      "cell_type": "markdown",
      "metadata": {
        "id": "1lefpex2oYAK"
      },
      "source": [
        "# Time series, frequencies, and data visualization\n",
        "Here, we'll demonstrate how you can use NumPy and Matplotlib to visualize time series in Python.\n",
        "\n",
        "### By the end of this notebook, you'll be able to:\n",
        "* Import a Python library and use the functions it contains\n",
        "* Create NumPy arrays, and execute methods & access attributes of arrays\n",
        "* Demonstrate how we can add sine waves to create complex waveforms\n",
        "* Plot time series using Matplotlib\n",
        "<hr>"
      ]
    },
    {
      "cell_type": "markdown",
      "metadata": {
        "id": "bSBaekfhoYAL"
      },
      "source": [
        "## Importing packages\n",
        "**NumPy** is a useful library that can help store and wrangle homogeneous data. \"Homogenous\" means that all data points within the data are of the same [data type](https://jakevdp.github.io/PythonDataScienceHandbook/02.01-understanding-data-types.html). In general, you should use this library when you want to do fancy things with lots of numbers, especially if you have matrices or arrays.\n",
        "\n",
        "Before we can use NumPy, we need to import the package. We can also nickname the modules when we import them. The convention is to import `numpy` as `np`."
      ]
    },
    {
      "cell_type": "code",
      "execution_count": null,
      "metadata": {
        "scrolled": true,
        "id": "EA_Tt_ZmoYAL"
      },
      "outputs": [],
      "source": [
        "# Import packages\n",
        "import numpy as np\n",
        "\n",
        "# Use whos to see available modules\n",
        "%whos"
      ]
    },
    {
      "cell_type": "markdown",
      "metadata": {
        "id": "tc8N6wGSoYAM"
      },
      "source": [
        "Importing a library is like getting a piece of lab equipment out of a storage locker and setting it up on the bench. Libraries provide additional functionality to the basic Python package, much like a new piece of equipment adds functionality to a lab space. Just like in the lab, importing too many libraries can sometimes complicate and slow down your programs - so we only import what we need for each program.\n",
        "\n",
        "## Creating NumPy arrays\n",
        "Once we’ve imported the library, we can create in a few different ways:\n",
        "* from a Python list or tuples\n",
        "* by using functions that are dedicated to generating numpy arrays, such as `arange`, `linspace`, `empty`,`zeroes`, etc.\n",
        "* reading data from files\n",
        "\n",
        "## What is an array?\n",
        "![](https://miro.medium.com/max/1400/1*X0Dg7QfSYtWhSAu-afi8-g.png)\n",
        "\n",
        "(from [this article](https://towardsdatascience.com/numpy-array-cookbook-generating-and-manipulating-arrays-in-python-2195c3988b09))"
      ]
    },
    {
      "cell_type": "code",
      "execution_count": null,
      "metadata": {
        "id": "yHoY4KSboYAM"
      },
      "outputs": [],
      "source": [
        "# Create a list\n",
        "lst = [1,2,3,4,5]\n",
        "\n",
        "# Make our list into an array\n",
        "my_vector = ..."
      ]
    },
    {
      "cell_type": "code",
      "execution_count": null,
      "metadata": {
        "id": "-AlwfSkUoYAM"
      },
      "outputs": [],
      "source": [
        "# If we give numpy a list of lists, it will create a matrix\n",
        "my_matrix = ..."
      ]
    },
    {
      "cell_type": "markdown",
      "metadata": {
        "id": "bxTXLmPzoYAM"
      },
      "source": [
        "### Benefits of using arrays\n",
        "In addition to being less clunky & a bit faster than lists of lists, arrays can do a lot of things that lists can't. For example, we can add and multiply them. Alternatively, we can use the `sum` method to sum across a specific axis."
      ]
    },
    {
      "cell_type": "code",
      "execution_count": null,
      "metadata": {
        "id": "0O93Hkc0oYAM"
      },
      "outputs": [],
      "source": [
        "sum_list = ...\n",
        "sum_array = ...\n",
        "mult_array = ...\n",
        "\n",
        "print(sum_list)\n",
        "print(mult_array)"
      ]
    },
    {
      "cell_type": "markdown",
      "metadata": {
        "id": "zS9kf7DHoYAM"
      },
      "source": [
        "### Numpy also includes some very useful array generating functions:\n",
        "\n",
        "* `arange`: like `range` but gives you a useful numpy array, instead of an interator, and can use more than just integers)\n",
        "* `linspace` creates an array with given start and end points, and a desired number of points\n",
        "* `logspace` same as linspace, but in log.\n",
        "* `random` can create a random list (there are <a href=\"https://docs.scipy.org/doc/numpy-1.14.0/reference/routines.random.html\">many different ways to use this</a>)\n",
        "* `concatenate` which can concatenate two arrays along an existing axis [<a href=\"https://docs.scipy.org/doc/numpy/reference/generated/numpy.concatenate.html\">documentation</a>]\n",
        "* `hstack` and `vstack` which can horizontally or vertically stack arrays\n",
        "\n",
        "Whenever we call these, we need to use whatever name we imported numpy as (here, `np`)."
      ]
    },
    {
      "cell_type": "code",
      "execution_count": null,
      "metadata": {
        "id": "LubkZ_OqoYAM"
      },
      "outputs": [],
      "source": [
        "# Try the functions above\n"
      ]
    },
    {
      "cell_type": "markdown",
      "metadata": {
        "id": "hIQ__ZSAoYAM"
      },
      "source": [
        "## Use NumPy to generate simple sine waves\n",
        "\n",
        "Now that we understand the basics of NumPy, let's generate a sine wave using the `np.sin` function. We'll then generate a second sine wave and add these together to understand what a fourier transform of this data would look like. **Sine waves** are defined by their frequency, ampltitude, and and phase."
      ]
    },
    {
      "cell_type": "code",
      "execution_count": null,
      "metadata": {
        "id": "ZjQjNqRroYAM"
      },
      "outputs": [],
      "source": [
        "sampling_freq = 1024 # sampling frequency\n",
        "dur = 1 # 1 second of signal\n",
        "freq = 7 # 7 Hz signal\n",
        "freq2 = 130 # 130 Hz signal\n",
        "\n",
        "t = np.arange(0, dur, 1/sampling_freq) # Generate a time vector\n",
        "\n",
        "sig1 = np.sin(2 * np.pi * freq * t) # Generate a sine wave\n",
        "sig1 = 2 * sig1; # Increase the power of signal 1\n",
        "\n",
        "sig2 = np.sin(2 * np.pi * freq2 * t) # Generate another sine wave"
      ]
    },
    {
      "cell_type": "markdown",
      "metadata": {
        "id": "LKr-JVYXoYAM"
      },
      "source": [
        "If we want to plot our sine waves, we need another package! We'll use `matplotlib.pyplot` and import it as `plt`."
      ]
    },
    {
      "cell_type": "code",
      "execution_count": null,
      "metadata": {
        "id": "_y71Hq_ZoYAM"
      },
      "outputs": [],
      "source": [
        "# Import plotting package here\n",
        "import matplotlib.pyplot as plt\n",
        "%whos"
      ]
    },
    {
      "cell_type": "markdown",
      "metadata": {
        "id": "Z3fEdf9soYAM"
      },
      "source": [
        "><b>Task</b>:\n",
        "> 1. Add the two sine waves together, to create a third signal `combined_signal`.\n",
        "> 2. Plot this signal using `plt.plot(combined_signal)`.\n",
        "> 3. Show the plot cleanly with `plt.show()`\n",
        "    "
      ]
    },
    {
      "cell_type": "code",
      "execution_count": null,
      "metadata": {
        "id": "_Rw9CndOoYAM"
      },
      "outputs": [],
      "source": [
        "# Add & plot!\n"
      ]
    },
    {
      "cell_type": "markdown",
      "metadata": {
        "id": "JBa8XkLWoYAM"
      },
      "source": [
        "## Import and filter real sleep data\n",
        "\n",
        "Normal physiological data is never as regular as the data above -- it's usually chock full of lots of different waves, as well as noise. Now that we have a sense of the tools we need, let's work with some real data.\n",
        "\n",
        "The data we'll import here is a real 30-seconds extract of slow-wave sleep from a young individual, collected by the Walker Lab at UC Berkeley. This data was collected at 100 Hz from channel 'F3'. This sampling frequency is fine for EEG data, but wouldn't be enough for high frequency spiking data. That kind of data is typically sampled at 40 **kilo**Hz.\n",
        "\n",
        "> **Note**: Here we're using a tool called `urllib.request` to download data that is hosted online. However, when you have data that you'd like to use (as a .txt or .csv file, for example), you can use [`np.loadtxt`](https://numpy.org/doc/stable/reference/generated/numpy.loadtxt.html) to load the file into the notebook from your computer."
      ]
    },
    {
      "cell_type": "code",
      "execution_count": null,
      "metadata": {
        "id": "ZnOwaTogoYAN"
      },
      "outputs": [],
      "source": [
        "import urllib.request\n",
        "\n",
        "# URL of data to download\n",
        "data_url = 'https://raphaelvallat.com/images/tutorials/bandpower/data.txt'\n",
        "\n",
        "# Get the data and save it as \"sleep_data.txt\"\n",
        "sleep_data, headers = urllib.request.urlretrieve(data_url, './Data/sleep_data.txt')"
      ]
    },
    {
      "cell_type": "markdown",
      "metadata": {
        "id": "5g3acF6FoYAN"
      },
      "source": [
        "><b>Task</b>:\n",
        "> 1. Using the numpy function `loadtxt`, load your text file and assign it to \"data\". Give `loadtxt` two parameters: `fname` and `delimiter`. This is a comma-delimited file, so delimiter is set to ','.\n",
        "> 2. Check the shape of your data."
      ]
    },
    {
      "cell_type": "code",
      "execution_count": null,
      "metadata": {
        "id": "PmwI_I8eoYAN"
      },
      "outputs": [],
      "source": [
        "# Load the .txt file\n"
      ]
    },
    {
      "cell_type": "markdown",
      "metadata": {
        "id": "d9bBw8rDoYAN"
      },
      "source": [
        "First, we'll plot the raw data. The data provides the information about voltage for the y axis. However, we need to also create a time vector, so that we can accurately label the x axis. The `np.arange()` method is very useful for this. We need to create a vector that is the same length as our data, but where each number is in terms of **time**, not **samples**. To do so, we'll divide our vector by the sampling rate."
      ]
    },
    {
      "cell_type": "code",
      "execution_count": null,
      "metadata": {
        "id": "W-NjLXU1oYAN"
      },
      "outputs": [],
      "source": [
        "# Define sampling frequency, num_samples, and time vector\n",
        "sampling_freq = 100 # sampling frequency, in Hz\n",
        "num_samples = len(data)\n",
        "time_vector = np.arange(0,30,1/sampling_freq) # the signal is 30 seconds long\n",
        "time_vector"
      ]
    },
    {
      "cell_type": "markdown",
      "metadata": {
        "id": "a20LSRz7oYAN"
      },
      "source": [
        "<font color='blue'><h2>**Breakout Room Tasks**</h2>First, plot the entire 30 seconds of signal! You only need to add a line of code where it says `# ADD CODE HERE`</font>"
      ]
    },
    {
      "cell_type": "code",
      "execution_count": null,
      "metadata": {
        "id": "MokQI7_XoYAN"
      },
      "outputs": [],
      "source": [
        "# Plot the signal\n",
        "fig, ax = plt.subplots(figsize=(12, 4))\n",
        "\n",
        "# ADD CODE HERE\n"
      ]
    },
    {
      "cell_type": "markdown",
      "metadata": {
        "id": "A--30VWRoYAN"
      },
      "source": [
        "<font color='blue'>Using NumPy slicing, plot **just the first second** of the signal. Remember that this data was sampled at 100 Hz. In other words, there are 100 data points per second.</font>"
      ]
    },
    {
      "cell_type": "code",
      "execution_count": null,
      "metadata": {
        "id": "oqbvESJYoYAN"
      },
      "outputs": [],
      "source": [
        "# Plot the first second here\n"
      ]
    },
    {
      "cell_type": "markdown",
      "metadata": {
        "id": "Z9StzoG7oYAN"
      },
      "source": [
        "## About this notebook\n",
        "\n",
        "Some of the code in this notebook was adapted from [this tutorial](https://raphaelvallat.com/bandpower.html) by Raphael Vallat, [these tutorials](https://github.com/voytekresearch/Tutorials) from Torben Noto, and _Neural Data Science_ by Pascal Wallisch."
      ]
    }
  ],
  "metadata": {
    "kernelspec": {
      "display_name": "Python 3",
      "language": "python",
      "name": "python3"
    },
    "language_info": {
      "codemirror_mode": {
        "name": "ipython",
        "version": 3
      },
      "file_extension": ".py",
      "mimetype": "text/x-python",
      "name": "python",
      "nbconvert_exporter": "python",
      "pygments_lexer": "ipython3",
      "version": "3.7.3"
    },
    "colab": {
      "provenance": []
    }
  },
  "nbformat": 4,
  "nbformat_minor": 0
}