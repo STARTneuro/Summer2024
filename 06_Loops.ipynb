{
  "cells": [
    {
      "cell_type": "markdown",
      "metadata": {
        "id": "bQQxx3-Zm7dQ"
      },
      "source": [
        "# Loops\n",
        "(notebook from Dr. Ashley Juavinett, ENDURE workshop 2023)\n",
        "\n",
        "In this notebook, we'll learn about a very useful programming skill: writing a loop. We'll use these loops to do several computations and changes with our DNA string."
      ]
    },
    {
      "cell_type": "markdown",
      "metadata": {
        "id": "wDChP0Apm7dR"
      },
      "source": [
        "### At the end of this notebook, you'll be able to:\n",
        "* [Write a `for` loop to iterate over elements in an object](#for)\n",
        "* Use a `counter` in a loop\n",
        "* [Use a `for` loop to count GC content and CCAAT boxes in a DNA string](#GCcontent)\n",
        "* [Write `while` loops and implement `continue` and `break`](#while)\n",
        "\n",
        "### A loop is a procedure to repeat a piece of code.\n",
        "\n",
        "![](https://external-preview.redd.it/DzwzUEcXvu6DtJ02qvS1UElVcWM259LRgY_l7QtikfA.png?auto=webp&s=dd9657caed7b2cc87e0d1c27769eb38a4101c584)\n",
        "\n",
        "Loops enable you to re-run blocks of code for as many times as you need.\n",
        "\n",
        "Python has two main ways to run loops: `for` & `while`\n",
        "<hr>"
      ]
    },
    {
      "cell_type": "markdown",
      "metadata": {
        "id": "xc3V7TnUm7dR"
      },
      "source": [
        "<a id=\"For\"></a>\n",
        "\n",
        "## For loops\n",
        "\n",
        "Loops can be written in multiple ways. First, we'll tackle **for loops**.\n",
        "\n",
        "The `for` loop iterates over the elements of the supplied object (a list, range, or a string, e.g.), and executes the containing block once for each element. It has the basic structure below:\n",
        "\n",
        "```\n",
        "for element in object:\n",
        "    (do something)\n",
        " ```\n",
        "\n",
        "![](https://swcarpentry.github.io/python-novice-inflammation/fig/05-loops_image_num.png)\n",
        "\n",
        "We can use `for` loops for various types of objects. Let's look at each of these in turn.\n",
        "\n",
        "### Looping through a string"
      ]
    },
    {
      "cell_type": "code",
      "execution_count": null,
      "metadata": {
        "scrolled": true,
        "id": "ZbYHvY2Wm7dR"
      },
      "outputs": [],
      "source": [
        "# Looping through a string\n",
        "counter = 0\n",
        "\n",
        "for character in 'hello':\n",
        "    print(character)\n",
        "    counter = counter+1"
      ]
    },
    {
      "cell_type": "markdown",
      "metadata": {
        "id": "uWdE8z8Ym7dR"
      },
      "source": [
        "### Looping through a list\n",
        "Looping through a list works similarly."
      ]
    },
    {
      "cell_type": "code",
      "execution_count": null,
      "metadata": {
        "id": "pIW55FXAm7dR"
      },
      "outputs": [],
      "source": [
        "# Looping through a list\n"
      ]
    },
    {
      "cell_type": "markdown",
      "metadata": {
        "id": "EK37Pr6Hm7dS"
      },
      "source": [
        "### Looping over Dictionaries\n",
        "We can also use `for` loops to iterate over key-value pairs of a dictionary. What do you think the cell below will output?"
      ]
    },
    {
      "cell_type": "code",
      "execution_count": null,
      "metadata": {
        "scrolled": true,
        "id": "c0FgSeT0m7dS"
      },
      "outputs": [],
      "source": [
        "params = {\"parameter1\" : 1.0,\n",
        "          \"parameter2\" : 2.0,\n",
        "          \"parameter3\" : 3.0,}\n",
        "\n",
        "for key, value in params.items():\n",
        "    print(key + \" = \" + str(value))"
      ]
    },
    {
      "cell_type": "markdown",
      "metadata": {
        "id": "6l8SMdFhm7dS"
      },
      "source": [
        "### Looping with Range\n",
        "Sometimes it is useful to have access to the indices of the values when iterating over a **range** of numbers. We can use the `enumerate` function for this:"
      ]
    },
    {
      "cell_type": "code",
      "execution_count": null,
      "metadata": {
        "scrolled": true,
        "id": "ZtBNkmUOm7dS"
      },
      "outputs": [],
      "source": [
        "for idx, x in enumerate(range(-3,3)):\n",
        "    print(idx, x)"
      ]
    },
    {
      "cell_type": "markdown",
      "metadata": {
        "id": "Fj1ig5a7m7dS"
      },
      "source": [
        "### List Comprehensions\n",
        "Finally, list comprehensions are a very compact way to create lists using a `for` loop. **It is not neccessary to use these**, and they're not very intuitive to look at, but they do help condense lines of code."
      ]
    },
    {
      "cell_type": "code",
      "execution_count": null,
      "metadata": {
        "scrolled": true,
        "id": "Xohhtdn9m7dS"
      },
      "outputs": [],
      "source": [
        "# Create a list of values where x is squared for 0, 1, 2, 3, and 4.\n",
        "\n",
        "list_1 = [x**2 for x in range(0,5)]\n",
        "\n",
        "print(list_1)"
      ]
    },
    {
      "cell_type": "markdown",
      "metadata": {
        "id": "HbnEaE8zm7dS"
      },
      "source": [
        "> **Test your knowledge!** How many values will be printed from this for loop before it *first* prints “The tea is too hot!”?\n",
        "\n",
        "<font color='red'>**Note**: You'll use this code snippet for the take home assignment!</font>"
      ]
    },
    {
      "cell_type": "code",
      "execution_count": null,
      "metadata": {
        "id": "piAhqvPqm7dS"
      },
      "outputs": [],
      "source": [
        "temperatures = [114, 115, 116, 117, 118]\n",
        "\n",
        "for temp in temperatures:\n",
        "    print(temp)\n",
        "\n",
        "    if temp > 115:\n",
        "        print('The tea is too hot!')"
      ]
    },
    {
      "cell_type": "markdown",
      "metadata": {
        "id": "luLZE1yqm7dS"
      },
      "source": [
        "<font color='blue'><b>Breakout room task:</b> Write the *Python* code for <a href=\"https://i.redd.it/q9qc6bjzqr741.png\">the image below</a>.</font>\n",
        "\n",
        "![](https://i.redd.it/q9qc6bjzqr741.png)"
      ]
    },
    {
      "cell_type": "code",
      "execution_count": null,
      "metadata": {
        "id": "rr3xb3Uem7dS"
      },
      "outputs": [],
      "source": [
        "# Write your code here\n"
      ]
    },
    {
      "cell_type": "markdown",
      "metadata": {
        "id": "2F-fsejHm7dS"
      },
      "source": [
        "<a id=\"GCcontent\"></a>\n",
        "\n",
        "## Computing GC content with a loop\n",
        "\n",
        "Let's get back to our question of computing GC content. We can write a simple function to loop over a string, as follows:"
      ]
    },
    {
      "cell_type": "code",
      "execution_count": null,
      "metadata": {
        "id": "wkDLWfKTm7dS"
      },
      "outputs": [],
      "source": [
        "# Define function\n",
        "def length(my_string):                     # Define the function\n",
        "    '''Computes length of input string'''  # Include a doc string\n",
        "    counter = 0                            # Initialize the counter\n",
        "    for character in my_string:            # First, assign the item in my_string to \"character\"\n",
        "        print(character)                   # Then, print character\n",
        "        counter = counter+1                # Then, increment the counter and go back to next item in my_string.\n",
        "    return counter                         # Return the final counter, once there are no more items in my_string"
      ]
    },
    {
      "cell_type": "code",
      "execution_count": null,
      "metadata": {
        "id": "rCypH89sm7dS"
      },
      "outputs": [],
      "source": [
        "# Run function\n",
        "length('GGCAT')"
      ]
    },
    {
      "cell_type": "markdown",
      "metadata": {
        "id": "wJn9zbbbm7dS"
      },
      "source": [
        "This function counts the length of the string, but doesn't count the GC content."
      ]
    },
    {
      "cell_type": "markdown",
      "metadata": {
        "id": "CGO-6jCJm7dT"
      },
      "source": [
        "<div class=\"alert alert-success\"><b>Task</b>: Let's put it all together! Write a function (<code>computeGCcontent</code>) that can compute the GC content of a DNA string, regardless of the length.</div>"
      ]
    },
    {
      "cell_type": "code",
      "execution_count": null,
      "metadata": {
        "id": "adUuX0ymm7dT"
      },
      "outputs": [],
      "source": [
        "# Write your function here\n"
      ]
    },
    {
      "cell_type": "markdown",
      "metadata": {
        "id": "aJI_Blrwm7dT"
      },
      "source": [
        "### Side note: Membership Operators\n",
        "We can use the membership operators `in` and `not in` to compare membership. These operators return booleans. Membership operators are used to check whether a value or variable is found in a sequence. We can use this to check for membership in strings, as well as in lists.\n",
        "\n",
        "Today, we'll use this special keyword `in` as an operator in our loops as well."
      ]
    },
    {
      "cell_type": "code",
      "execution_count": null,
      "metadata": {
        "scrolled": false,
        "id": "BWqZg4JRm7dT"
      },
      "outputs": [],
      "source": [
        "my_dna = 'ATGCAA'\n",
        "print('C' in my_dna)"
      ]
    },
    {
      "cell_type": "markdown",
      "metadata": {
        "id": "ZsvHwsCRm7dT"
      },
      "source": [
        "While this is a useful way to check for one nucleotide, it doesn't help us *count* how many there are. We can also use many different if/elif/else statements, but this can easily get cumbersome with long strings of DNA.\n",
        "\n",
        "To count GC content (or do many other repetitive tasks), loops are much more useful."
      ]
    },
    {
      "cell_type": "markdown",
      "metadata": {
        "id": "s6PEYfJmm7dT"
      },
      "source": [
        "### Side note: Converting single items in a string\n",
        "We can also use `for` loops to convert items in the string. You may recall that RNA has the same nucleotides as DNA except it uses uracil (U) instead of thymine (T). So, the DNA string 'TTACG' would be 'UUACG' in RNA."
      ]
    },
    {
      "cell_type": "markdown",
      "metadata": {
        "id": "Q_ymVmlfm7dT"
      },
      "source": [
        "><b>Task</b>: Write a function called <code>DNAtoRNA</code> that takes in a string <code>DNA</code> and it converts it to RNA. A skeleton of this function is already below.</div>"
      ]
    },
    {
      "cell_type": "code",
      "execution_count": null,
      "metadata": {
        "id": "xpzC-XHAm7dT"
      },
      "outputs": [],
      "source": [
        "def DNAtoRNA(DNA):\n",
        "    RNA = '' # Create an empty RNA string\n",
        "\n",
        "    for ...\n",
        "        if nuc == 'T':\n",
        "            RNA = RNA + 'U'"
      ]
    },
    {
      "cell_type": "markdown",
      "metadata": {
        "id": "HoQ8rPH9m7dT"
      },
      "source": [
        "As it turns out, there's a useful **method** of strings that does this exact same thing -- in one line of code!\n",
        "> **Task**: Do a Google search to figure out how to replace specific items in a string, and try it below. Hint: search \"replace items in string Python\"."
      ]
    },
    {
      "cell_type": "code",
      "execution_count": null,
      "metadata": {
        "id": "ciJRqdF1m7dT"
      },
      "outputs": [],
      "source": [
        "# Test the string method here\n"
      ]
    },
    {
      "cell_type": "markdown",
      "metadata": {
        "id": "R9Ov98YKm7dT"
      },
      "source": [
        "### Loops extension: Finding CCAAT boxes\n",
        "\n",
        "For an extension of our GC content task, here we'll count the # of “CAT” boxes (CCAAT) in a string of DNA. The “CAT” box generally appears near the spot where transcription begins, so it's a useful thing to identify.\n",
        "\n",
        "Above, we wrote a function that will loop over a string, but if we need to look at multiple letters at a time, what we *really* need is one that will loop over the indices in that string."
      ]
    },
    {
      "cell_type": "code",
      "execution_count": null,
      "metadata": {
        "id": "F4kDJXRem7dT"
      },
      "outputs": [],
      "source": [
        "# First draft of code\n",
        "counter = 0\n",
        "\n",
        "def countCCAAT(DNA):\n",
        "    counter = 0\n",
        "    for index in range(len(DNA)):\n",
        "        ..."
      ]
    },
    {
      "cell_type": "markdown",
      "metadata": {
        "id": "K2MxgPxBm7dT"
      },
      "source": [
        "> **Task**: Modify the skeleton above by using the index to slice our DNA. For example, the first slice of 5 nucleotides would be `DNA[0:5]`, the second would be `DNA[1:6]`. We can do this programatically!"
      ]
    },
    {
      "cell_type": "markdown",
      "metadata": {
        "id": "CWEaj1oEm7dT"
      },
      "source": [
        "### Functions can call other functions!\n",
        "\n",
        "What if instead of one DNA string, we'd like to count the CCAAT boxes for multiple DNA strings? We'd essentially like to run our `countCCAAT` function multiple times. You can see how we would implement this below. In this case, it becomes a **helper** function. When `countCCAAT` is called, Python passes it the current DNA string and waits for it to return something."
      ]
    },
    {
      "cell_type": "code",
      "execution_count": null,
      "metadata": {
        "id": "6K-rwIv7m7dT"
      },
      "outputs": [],
      "source": [
        "def multicountCCAAT(DNA_list):\n",
        "    '''Prints the # of occurrences of CCAAT in each string in the given DNA list'''\n",
        "\n",
        "    for DNA in DNA_list:\n",
        "        print( countCCAAT(DNA))"
      ]
    },
    {
      "cell_type": "code",
      "execution_count": null,
      "metadata": {
        "id": "9wRdZpunm7dT"
      },
      "outputs": [],
      "source": [
        "# Test our function\n"
      ]
    },
    {
      "cell_type": "markdown",
      "metadata": {
        "id": "icSVr_8km7dT"
      },
      "source": [
        "Another way to implement this idea would be with **nested loops**."
      ]
    },
    {
      "cell_type": "code",
      "execution_count": null,
      "metadata": {
        "id": "nOvtHPDum7dT"
      },
      "outputs": [],
      "source": [
        "def multicountCCAAT_nested(DNA_list):\n",
        "    '''Prints the # of occurrences of CCAAT in each string in the given DNA list'''\n",
        "\n",
        "    for DNA in DNA_list:                        # The outer loop works through each DNA string\n",
        "        counter = 0                             # For each string, reset the counter\n",
        "        for index in range(len(DNA)):           # For each item in the string\n",
        "            if DNA[index:index+5] == 'CCAAT':   # Check whether there is a CCAAT box\n",
        "                counter = counter +1            # If so, implement the counter\n",
        "        print(counter)                          # When you're done with that DNA string, print the counter"
      ]
    },
    {
      "cell_type": "code",
      "execution_count": null,
      "metadata": {
        "id": "rpGj8AVWm7dT"
      },
      "outputs": [],
      "source": [
        "# Test our nested function\n"
      ]
    },
    {
      "cell_type": "markdown",
      "metadata": {
        "id": "NZuEJh8Tm7dU"
      },
      "source": [
        "Although the nested function works too, it is not as **modular** as the first one. **Modular** design is where once function calls another function for help, and is generally a good practice when building more and more complex programs."
      ]
    },
    {
      "cell_type": "markdown",
      "metadata": {
        "id": "Os7-hlU2m7dU"
      },
      "source": [
        "<a id=\"while\"></a>\n",
        "\n",
        "## Other kinds of loops & related operators\n",
        "\n",
        "### While loops\n",
        "The operator `while` lets you continue to run a loop as long as something is true.\n",
        "\n",
        "While loops always have the structure\n",
        "\n",
        "```\n",
        "while condition:\n",
        "    # Loop contents\n",
        "```"
      ]
    },
    {
      "cell_type": "code",
      "execution_count": null,
      "metadata": {
        "scrolled": true,
        "id": "j04VVSXbm7dU"
      },
      "outputs": [],
      "source": [
        "message = 'still working'\n",
        "counter = 0\n",
        "\n",
        "while counter < 5:\n",
        "    print(message)\n",
        "\n",
        "    counter = counter + 1\n",
        "\n",
        "print(\"done\")"
      ]
    },
    {
      "cell_type": "code",
      "execution_count": null,
      "metadata": {
        "id": "_kTyfNqCm7dU"
      },
      "outputs": [],
      "source": [
        "# Another example\n",
        "\n",
        "number = -5\n",
        "\n",
        "while number < 0:\n",
        "    print(number)\n",
        "    number = number + 1  # must have code to make condition evaluate as False at some point"
      ]
    },
    {
      "cell_type": "markdown",
      "metadata": {
        "id": "VVUDF04Qm7dU"
      },
      "source": [
        "> **Test your knowledge!** How many temperature values will be output from this `while` loop before “The tea is cool enough.” is printed?"
      ]
    },
    {
      "cell_type": "code",
      "execution_count": null,
      "metadata": {
        "id": "SRlKSG21m7dU"
      },
      "outputs": [],
      "source": [
        "temperature = 115\n",
        "\n",
        "while temperature > 112:\n",
        "    print(temperature)\n",
        "    temperature = temperature - 1\n",
        "\n",
        "print('The tea is cool enough.')"
      ]
    },
    {
      "cell_type": "markdown",
      "metadata": {
        "id": "_NWQcoDem7dU"
      },
      "source": [
        "### Continue operator\n",
        "<code>continue</code> is a special operator to jump ahead to the next iteration of a loop."
      ]
    },
    {
      "cell_type": "code",
      "execution_count": null,
      "metadata": {
        "scrolled": true,
        "id": "AbwIKWfCm7dU"
      },
      "outputs": [],
      "source": [
        "lst = [0, 1, 2, 3]\n",
        "\n",
        "for item in lst:\n",
        "\n",
        "    if item == 2:\n",
        "        continue\n",
        "\n",
        "    print(item)"
      ]
    },
    {
      "cell_type": "code",
      "execution_count": null,
      "metadata": {
        "id": "VXNeuGYDm7dU"
      },
      "outputs": [],
      "source": [
        "lst = [0, 1, 2, 3]\n",
        "\n",
        "for item in lst:\n",
        "\n",
        "    if item != 2:\n",
        "        print(item)"
      ]
    },
    {
      "cell_type": "markdown",
      "metadata": {
        "id": "bsT0qyJAm7dU"
      },
      "source": [
        "### Break operator\n",
        "`break` is a special operator to exit a loop. It's useful when you'd like to stop running a loop once you've hit a certain threshold or value."
      ]
    },
    {
      "cell_type": "code",
      "execution_count": null,
      "metadata": {
        "scrolled": true,
        "id": "9glJLMt5m7dU"
      },
      "outputs": [],
      "source": [
        "lst = [0, 1, 2, 3]\n",
        "\n",
        "for item in lst:\n",
        "\n",
        "    if item == 2:\n",
        "        break\n",
        "\n",
        "    print(item)"
      ]
    },
    {
      "cell_type": "markdown",
      "metadata": {
        "id": "8uwBY6h6m7dU"
      },
      "source": [
        "<img src=\"https://media2.giphy.com/media/kKLoC2AdoTftSgzR0O/source.gif\" alt=\"russiandollgif\" width=\"200\" height=\"200\">\n",
        "\n",
        "## Interrupting a kernel\n",
        "Writing loops is sometimes tricky, and one error in your code might leave you trapped in an infinite loop.\n"
      ]
    },
    {
      "cell_type": "code",
      "execution_count": null,
      "metadata": {
        "scrolled": true,
        "id": "4C-qHKbZm7dU"
      },
      "outputs": [],
      "source": [
        "a = 1\n",
        "\n",
        "while a == 1:\n",
        "    print('AAAHHHH')"
      ]
    },
    {
      "cell_type": "markdown",
      "metadata": {
        "id": "bavM4MGhm7dU"
      },
      "source": [
        "_What happens if you get stuck in a forever loop and can't escape?_\n",
        "\n",
        "If there is a star next to the `In[ ]*:` at left, that means your cell is running. Similarly, if the circle next to Python3 is filled, the Kernel is busy.\n",
        "\n",
        "Use <b>Kernel > Interrupt</b> to stop the notebook. You can also use <b>Cell > Current Outputs > Clear</b> to clear your slate.\n",
        "\n",
        "It can be useful to clear and re-launch the kernel. You can do this from the 'kernel' drop down menu, at the top, optionally also clearing all ouputs. Note that this will erase any variables that are stored in memory."
      ]
    },
    {
      "cell_type": "markdown",
      "metadata": {
        "id": "GK7EhbCZm7dU"
      },
      "source": [
        "<hr>\n",
        "\n",
        "## Additional loops practice\n",
        "\n",
        "1. Write a function `count_odd()` containing a loop that will **add** all the odd numbers for the input range together.\n",
        "\n",
        "2. Write a function `count_vowels()` containing a loop that will loop through all the letters in `my_name` (the input parameter) and count all the vowels in your name. (**Note**: This is in the take home assignment).\n",
        "\n",
        "3. Write a function `create_dictionary` that takes two input lists `lst_1` and `lst_2`. Inside the function, join the two lists to form a dictionary `joined_dictionary` where the first element in `lst_1` is the first key in `joined_dictionary` and the the first element in `lst_2` is the first value in joined_dictionary and so on and so forth. Then return `joined_dictionary` as the output."
      ]
    },
    {
      "cell_type": "markdown",
      "metadata": {
        "id": "KfjIYhbTm7dU"
      },
      "source": [
        "<hr>\n",
        "\n",
        "## About this notebook\n",
        "This notebook is largely inspired by [*Computing for Biologists*](https://www.cambridge.org/highereducation/books/computing-for-biologists/5B08EEEE2AE8A602113A8F225E89F5FD#overview) by Libeskind-Hadas & Bush as well as [UCSD COGS18 Materials](https://cogs18.github.io/materials/09-Loops.html), created by Tom Donoghue & Shannon Ellis."
      ]
    }
  ],
  "metadata": {
    "kernelspec": {
      "display_name": "Python 3",
      "language": "python",
      "name": "python3"
    },
    "language_info": {
      "codemirror_mode": {
        "name": "ipython",
        "version": 3
      },
      "file_extension": ".py",
      "mimetype": "text/x-python",
      "name": "python",
      "nbconvert_exporter": "python",
      "pygments_lexer": "ipython3",
      "version": "3.7.3"
    },
    "rise": {
      "theme": "serif"
    },
    "colab": {
      "provenance": []
    }
  },
  "nbformat": 4,
  "nbformat_minor": 0
}