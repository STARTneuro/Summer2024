{
  "cells": [
    {
      "cell_type": "markdown",
      "metadata": {
        "id": "pk9xycJz48KT"
      },
      "source": [
        "# Data Structures\n",
        "\n",
        "In this notebook, we'll explore different types of data structures that Python can use to store information, namely **lists, tuples, and dictionaries.**"
      ]
    },
    {
      "cell_type": "markdown",
      "metadata": {
        "id": "GTUkkZwO48KT"
      },
      "source": [
        "\n",
        "## At the end of this notebook, you'll be able to:\n",
        "* Compare & contrast the types of structures that Python uses to store data points\n",
        "* Recognize & create lists, tuples, and dictionaries in Python\n",
        "* Index, slice, cast, and mutate lists\n",
        "* Understand the implications of mutability and object-oriented programming\n",
        "\n",
        "<hr>"
      ]
    },
    {
      "cell_type": "markdown",
      "metadata": {
        "id": "ajipD5im48KT"
      },
      "source": [
        "## Why Data Structures?"
      ]
    },
    {
      "cell_type": "markdown",
      "metadata": {
        "id": "CjMV0_5y48KU"
      },
      "source": [
        "While there are many programming languages that operates through different instructions, they all share one common thing: data structures.\n",
        "\n",
        "A data structure is a data organization and storage format. It can be of various data types and can be used for searching, storing or comparing specific data."
      ]
    },
    {
      "cell_type": "markdown",
      "metadata": {
        "id": "_ydB8eDz48KU"
      },
      "source": [
        "A good analogy for programming data structures are glass containers: they vary in size, properties and functionality. We also choose the best container depending on what needs to be stored.\n",
        "\n",
        "<center><img src=\"https://drive.google.com/uc?id=1kCcDzpIn60HtAtk8NUqvKY4Wma_36oj3\">"
      ]
    },
    {
      "cell_type": "markdown",
      "metadata": {
        "id": "ICaXSchr48KU"
      },
      "source": [
        "### Data Types"
      ]
    },
    {
      "cell_type": "markdown",
      "metadata": {
        "id": "tMvI6WA048KU"
      },
      "source": [
        "Data types are items that help *classify* or *categorize* data. They represent what kind of *value* each item has, and can be assigned to an *object* that can be accessed later on. These items are called *variables*."
      ]
    },
    {
      "cell_type": "markdown",
      "metadata": {
        "id": "NgjcASPM48KU"
      },
      "source": [
        "Here are some data structure types with examples:\n",
        "<center><img src=\"https://drive.google.com/uc?id=1fiIM9_ydwnK8gYn1mi40QDEiljkZkKy3\">"
      ]
    },
    {
      "cell_type": "markdown",
      "metadata": {
        "id": "sFVIjDFQ48KU"
      },
      "source": [
        "Note how some structures can have *mixed* data types (like list and tuple), and others can only have one type (like integers or booleans)."
      ]
    },
    {
      "cell_type": "markdown",
      "metadata": {
        "id": "49U0hLnl48KU"
      },
      "source": [
        "## Lists\n",
        "A _list_ is a mutable collection of ordered items, that can be of mixed type.\n",
        "\n",
        "**Mutable** means that individual items in the object can be changed. Lists are mutable. Tuples and strings are not -- they're **immutable**.\n",
        "\n",
        "Lists are created using square brackets `[ ]`, and individual elements are separated by commas."
      ]
    },
    {
      "cell_type": "code",
      "execution_count": 1,
      "metadata": {
        "scrolled": true,
        "id": "6WVdDm8048KU",
        "outputId": "0e956291-a7a0-4ae6-be11-ac37d327321d",
        "colab": {
          "base_uri": "https://localhost:8080/"
        }
      },
      "outputs": [
        {
          "output_type": "execute_result",
          "data": {
            "text/plain": [
              "['apple', 'banana', 'cherry']"
            ]
          },
          "metadata": {},
          "execution_count": 1
        }
      ],
      "source": [
        "# Create a list of fruits\n",
        "fruits = ['apple', 'banana', 'cherry']\n",
        "fruits"
      ]
    },
    {
      "cell_type": "markdown",
      "metadata": {
        "id": "utWgphgm48KU"
      },
      "source": [
        "### Useful list methods\n",
        "- Check the length of your list by using `len(my_list)`\n",
        "- Use `my_list.append()` to add elements to a list\n",
        "- Remove elements by index using `del my_list[index]`\n",
        "- Remove elements by value by using `my_list.remove('value')`\n",
        "- Sort by using `my_list.sort()`"
      ]
    },
    {
      "cell_type": "code",
      "execution_count": 19,
      "metadata": {
        "scrolled": true,
        "id": "BgNvoBuJ48KU",
        "outputId": "9ed90d49-b3f5-450a-ce64-f2f46effa974",
        "colab": {
          "base_uri": "https://localhost:8080/"
        }
      },
      "outputs": [
        {
          "output_type": "stream",
          "name": "stdout",
          "text": [
            "length:  3\n",
            "appended:  ['melon', 'pomegranate', 'banana', 'apple']\n",
            "sorted:  ['apple', 'banana', 'melon', 'pomegranate']\n",
            "removed by value:  ['apple', 'banana', 'melon']\n",
            "removed by index:  ['apple', 'melon']\n"
          ]
        }
      ],
      "source": [
        "# Try different list methods here\n",
        "my_list = ['melon', 'pomegranate','banana'] #create list\n",
        "\n",
        "length = len(my_list) #check length\n",
        "print('length: ', length) #print length\n",
        "\n",
        "my_list.append('apple') #add apple to the list\n",
        "print('appended: ', my_list) #print our updated list\n",
        "\n",
        "my_list.sort() #sort (this is alphabetical for strings)\n",
        "print('sorted: ', my_list) #print our sorted list\n",
        "\n",
        "my_list.remove('pomegranate') #remove pomegranate from the list\n",
        "print('removed by value: ', my_list) #print our updated list\n",
        "\n",
        "del my_list[1] #remove banana from the list\n",
        "print('removed by index: ', my_list) #print our updated list"
      ]
    },
    {
      "cell_type": "markdown",
      "metadata": {
        "id": "T9ay14SW48KV"
      },
      "source": [
        "### List indexing & slicing\n",
        "**Indexing** refers to selecting an item from within a collection (e.g., lists, tuples, and strings). Indexing is done by placing the **index number** in square brackets, directly after the list variable.\n",
        "\n",
        "For example, if `my_list = [1,3,5]`, we can get the second value using `my_list[1]`. (Remember that Python starts indexing at zero!)"
      ]
    },
    {
      "cell_type": "markdown",
      "metadata": {
        "id": "w9NNgD0J48KV"
      },
      "source": [
        "### Reminders\n",
        "- Python is zero-based (The first index is '0')\n",
        "- Negative indices index backwards through a collection"
      ]
    },
    {
      "cell_type": "code",
      "execution_count": 21,
      "metadata": {
        "scrolled": true,
        "id": "yDqFz2R548KV",
        "outputId": "5ee33766-7a8e-44c7-fa07-8cba561a607b",
        "colab": {
          "base_uri": "https://localhost:8080/"
        }
      },
      "outputs": [
        {
          "output_type": "stream",
          "name": "stdout",
          "text": [
            "['apple', 'banana', 'cherry']\n",
            "first fruit:  apple\n",
            "last fruit:  cherry\n"
          ]
        }
      ],
      "source": [
        "# Try indexing our list of fruits here\n",
        "print(fruits)\n",
        "first_fruit = fruits[0]\n",
        "print('first fruit: ' , first_fruit)\n",
        "\n",
        "last_fruit = fruits[-1]\n",
        "print('last fruit: ', last_fruit)"
      ]
    },
    {
      "cell_type": "markdown",
      "metadata": {
        "id": "B3_pu7Em48KV"
      },
      "source": [
        "### If we want multiple items, we can **slice** the list.\n",
        "\n",
        "There are a few ways to slice:\n",
        "\n",
        "1. We can **slice** a part of a list using the syntax `[start:stop]`, which extracts characters between index start and stop (-1).\n",
        "\n",
        "**Notes**\n",
        "- `start` is __included__ then every element __until__ `stop` is included.\n",
        "- Negative values count backwards through the list."
      ]
    },
    {
      "cell_type": "markdown",
      "metadata": {
        "id": "HCdq1a8Q48KV"
      },
      "source": [
        "2. If we omit either (or both) of start or stop from `[start:stop]`, the default is the beginning and the end of the string, respectively, e.g. `[:3]`\n",
        "3. We can also define the step size (instead of default 1) using the syntax `[start:stop:step]`"
      ]
    },
    {
      "cell_type": "markdown",
      "metadata": {
        "id": "4Qx-Tf1k48KV"
      },
      "source": [
        "<div class=\"alert alert-success\"><b>Task:</b> For our list of fruits, create three different slices, and save them as different variables:\n",
        "    \n",
        "1. A slice of the first two fruits.\n",
        "2. A slice of the middle three fruits.\n",
        "3. A slice of the last fruit.\n",
        "    \n",
        "</div>"
      ]
    },
    {
      "cell_type": "code",
      "execution_count": 22,
      "metadata": {
        "scrolled": true,
        "id": "0CaFXfpE48KV",
        "outputId": "a17997d5-0ef9-4d41-9516-71d598b7def0",
        "colab": {
          "base_uri": "https://localhost:8080/"
        }
      },
      "outputs": [
        {
          "output_type": "stream",
          "name": "stdout",
          "text": [
            "['apple', 'banana']\n",
            "['banana', 'cherry']\n",
            "cherry\n"
          ]
        }
      ],
      "source": [
        "# Your code here!\n",
        "#1.\n",
        "first_two = fruits[0:2]\n",
        "print(first_two)\n",
        "\n",
        "#2.\n",
        "middle_three = fruits[1:4]\n",
        "print(middle_three)\n",
        "\n",
        "#3.\n",
        "last_fruit = fruits[-1]\n",
        "print(last_fruit)"
      ]
    },
    {
      "cell_type": "markdown",
      "metadata": {
        "id": "v3TnkNlI48KV"
      },
      "source": [
        "### Checking length\n",
        "We can use the function `len( )` to check the length of lists.\n",
        "\n",
        "**Note**: We can also use this to get the number of characters in a string!"
      ]
    },
    {
      "cell_type": "code",
      "execution_count": 23,
      "metadata": {
        "id": "VI9YWc7R48KV",
        "outputId": "d57576fe-52b0-45b9-c9c1-c6e4234a0fa1",
        "colab": {
          "base_uri": "https://localhost:8080/"
        }
      },
      "outputs": [
        {
          "output_type": "execute_result",
          "data": {
            "text/plain": [
              "3"
            ]
          },
          "metadata": {},
          "execution_count": 23
        }
      ],
      "source": [
        "len(fruits)"
      ]
    },
    {
      "cell_type": "markdown",
      "metadata": {
        "id": "OotuleQz48KV"
      },
      "source": [
        "### Checking membership\n",
        "We can use `in` to see if an item exists in a list. The `in` operator checks whether an element is present in a collection, and can be negated with `not`. _(More on operators in the next lecture)_"
      ]
    },
    {
      "cell_type": "code",
      "execution_count": 24,
      "metadata": {
        "scrolled": true,
        "id": "oiq03fVE48KV",
        "outputId": "220b4658-6c1b-48b2-d6e7-5fc4beb106ac",
        "colab": {
          "base_uri": "https://localhost:8080/"
        }
      },
      "outputs": [
        {
          "output_type": "execute_result",
          "data": {
            "text/plain": [
              "False"
            ]
          },
          "metadata": {},
          "execution_count": 24
        }
      ],
      "source": [
        "'pomegranate' in fruits"
      ]
    },
    {
      "cell_type": "code",
      "source": [
        "'banana' in fruits"
      ],
      "metadata": {
        "id": "4me8l4hC8FVq",
        "outputId": "d78155a5-a8e1-4c5b-94fa-fea73d3fe47f",
        "colab": {
          "base_uri": "https://localhost:8080/"
        }
      },
      "execution_count": 25,
      "outputs": [
        {
          "output_type": "execute_result",
          "data": {
            "text/plain": [
              "True"
            ]
          },
          "metadata": {},
          "execution_count": 25
        }
      ]
    },
    {
      "cell_type": "markdown",
      "metadata": {
        "id": "y_g0YlnN48KV"
      },
      "source": [
        "### Mutating lists\n",
        "After definition, we can update members of our list _because lists are mutable!_ This also impacts aliases of our lists."
      ]
    },
    {
      "cell_type": "code",
      "execution_count": 5,
      "metadata": {
        "scrolled": true,
        "id": "eKmwUxD648KV"
      },
      "outputs": [],
      "source": []
    },
    {
      "cell_type": "markdown",
      "metadata": {
        "id": "I600JYrM48KV"
      },
      "source": [
        "### Creating lists of lists\n",
        "Sometimes, it's useful to create lists of lists. Often, if we import big datasets as lists, this is how it will be organized.\n",
        "\n",
        "![](https://media.giphy.com/media/z1meXneq0oUh2/giphy.gif)"
      ]
    },
    {
      "cell_type": "code",
      "execution_count": 6,
      "metadata": {
        "scrolled": true,
        "id": "jmzGnnQF48KV",
        "outputId": "89c1e5aa-6e9d-40b2-9841-0e5171563f71",
        "colab": {
          "base_uri": "https://localhost:8080/"
        }
      },
      "outputs": [
        {
          "output_type": "stream",
          "name": "stdout",
          "text": [
            "['gene1', 0.48, 0.55]\n"
          ]
        }
      ],
      "source": [
        "gene_1 = ['gene1',0.48,0.55]\n",
        "gene_2 = ['gene2',0.38,0.85]\n",
        "gene_3 = ['gene3',0.21,0.81]\n",
        "all_genes = [gene_1, gene_2, gene_3]\n",
        "\n",
        "# We can use this syntax to get a specific value\n",
        "print(all_genes[0])"
      ]
    },
    {
      "cell_type": "markdown",
      "metadata": {
        "id": "82HmCnC-48KV"
      },
      "source": [
        "## Tuples\n",
        "A _tuple_ is an **immutable** collection of ordered items, that can be of mixed type.\n",
        "\n",
        "* Tuples are created using parentheses.\n",
        "* Indexing works similar to lists."
      ]
    },
    {
      "cell_type": "code",
      "execution_count": 26,
      "metadata": {
        "scrolled": true,
        "id": "02ehLnRv48KV",
        "outputId": "6ba94713-1c76-4159-d79e-67caaf36957b",
        "colab": {
          "base_uri": "https://localhost:8080/"
        }
      },
      "outputs": [
        {
          "output_type": "execute_result",
          "data": {
            "text/plain": [
              "tuple"
            ]
          },
          "metadata": {},
          "execution_count": 26
        }
      ],
      "source": [
        "# Define a tuple\n",
        "my_tuple = (1,2,3)\n",
        "type(my_tuple)"
      ]
    },
    {
      "cell_type": "markdown",
      "metadata": {
        "id": "bSeQd8zo48KV"
      },
      "source": [
        "<div class=\"alert alert-success\"><b>Question</b>: Before running the cell below, try to predict: What will be printed out from running this code?</div>"
      ]
    },
    {
      "cell_type": "code",
      "execution_count": 8,
      "metadata": {
        "scrolled": true,
        "id": "0G-B7tuW48KV",
        "outputId": "a3ed3e04-a0b9-42d3-f1b4-54f4e2128e71",
        "colab": {
          "base_uri": "https://localhost:8080/"
        }
      },
      "outputs": [
        {
          "output_type": "stream",
          "name": "stdout",
          "text": [
            "Overlap\n"
          ]
        }
      ],
      "source": [
        "lst = ['a', 'b', 'c']\n",
        "tup = ('b', 'c', 'd')\n",
        "\n",
        "if lst[-1] == tup[-1]:\n",
        "    print('EndMatch')\n",
        "elif tup[1] in lst:\n",
        "    print('Overlap')\n",
        "elif len(lst) == tup:\n",
        "    print('Length')\n",
        "else:\n",
        "    print('None')"
      ]
    },
    {
      "cell_type": "markdown",
      "metadata": {
        "id": "AS4cRDI748KV"
      },
      "source": [
        "### Casting between variable types\n",
        "We can use `list( )` or `tuple( )` to convert variables into different types. This is called **casting**.\n",
        "\n",
        "This is particularly useful when we use an operator like `range( )` which generates a range, but in the form of an **iterator**."
      ]
    },
    {
      "cell_type": "markdown",
      "metadata": {
        "id": "Y02fz7fc48KV"
      },
      "source": [
        "**Note**: `range`, like indexing, is defined with `start`,`stop`, and `step`, but commas in between each. Remember that you can always use `?range` or `help(range)` to get details on how a function works."
      ]
    },
    {
      "cell_type": "code",
      "execution_count": 27,
      "metadata": {
        "scrolled": true,
        "id": "6rHhlvQ948KV",
        "outputId": "3aaa6735-de66-4537-9bdb-4f67d2d8fb99",
        "colab": {
          "base_uri": "https://localhost:8080/"
        }
      },
      "outputs": [
        {
          "output_type": "execute_result",
          "data": {
            "text/plain": [
              "range(0, 10, 2)"
            ]
          },
          "metadata": {},
          "execution_count": 27
        }
      ],
      "source": [
        "# Test range here\n",
        "range(0,10,2)"
      ]
    },
    {
      "cell_type": "markdown",
      "metadata": {
        "id": "YvRljIdd48KV"
      },
      "source": [
        "# Dictionaries\n",
        "Dictionaries are also like lists, except that each element is a key-value pair. The syntax for dictionaries is `{key1 : value1, ...}:`\n",
        "\n",
        "### When dictionaries are useful\n",
        "1. Flexible & efficient way to associate labels with heterogeneous data\n",
        "2. Use where data items have, or can be given, labels\n",
        "3. Appropriate for collecting data of different kinds (e.g., name, addresses, ages)\n",
        "\n",
        "> In the cell below, create a dictionary for three countries and capitals using the syntax `{country:capital,...}`. Remember that strings still need parentheses!\n",
        "\n",
        "**Note**: You can also create an empty dicitionary using `{}` and fill it using `dictionary['key'] = 'value'`."
      ]
    },
    {
      "cell_type": "code",
      "execution_count": 10,
      "metadata": {
        "id": "WW9a_nSU48KV",
        "outputId": "cfb7f3a5-643d-4b31-f8d7-2f11555a3cd9",
        "colab": {
          "base_uri": "https://localhost:8080/"
        }
      },
      "outputs": [
        {
          "output_type": "execute_result",
          "data": {
            "text/plain": [
              "{'United Kingdom': 'London', 'France': 'Paris', 'Spain': 'Madrid'}"
            ]
          },
          "metadata": {},
          "execution_count": 10
        }
      ],
      "source": [
        "capitals = {'United Kingdom':'London','France':'Paris','Spain':'Madrid'}\n",
        "capitals"
      ]
    },
    {
      "cell_type": "markdown",
      "metadata": {
        "id": "4en5XMEc48KV"
      },
      "source": [
        "<div class=\"alert alert-success\"><b>Question:</b> Before running the cell below, predict: What would the following code produce?</div>"
      ]
    },
    {
      "cell_type": "code",
      "execution_count": 11,
      "metadata": {
        "id": "bj087DzF48KV",
        "outputId": "e826d6bc-9574-425b-fd91-d62c76dc9700",
        "colab": {
          "base_uri": "https://localhost:8080/"
        }
      },
      "outputs": [
        {
          "output_type": "execute_result",
          "data": {
            "text/plain": [
              "{'United Kingdom': 'England', 'France': 'Paris', 'Spain': 'Madrid'}"
            ]
          },
          "metadata": {},
          "execution_count": 11
        }
      ],
      "source": [
        "capitals.update({'United Kingdom':'England'})\n",
        "capitals"
      ]
    },
    {
      "cell_type": "markdown",
      "metadata": {
        "id": "MX_rL3R048KW"
      },
      "source": [
        "<div class=\"alert alert-success\"><b>Task</b>: What happens if we look for a key that doesn't exist? Try this above."
      ]
    },
    {
      "cell_type": "markdown",
      "metadata": {
        "id": "FhgGwAAM48KW"
      },
      "source": [
        "### Additional dictionary functionality\n",
        "- Use `capitals.update(morecapitals)` to add another dictionary entry\n",
        "- Use `del capitals['US']` to delete entries\n",
        "- Loop by key or values, or both"
      ]
    },
    {
      "cell_type": "markdown",
      "metadata": {
        "id": "s02BvFtO48KW"
      },
      "source": [
        "## Recap"
      ]
    },
    {
      "cell_type": "markdown",
      "metadata": {
        "id": "tz8mjjGD48KW"
      },
      "source": [
        "<b><font color='blue'> Breakout room activity! </font></b> Inspect and execute the codes below, and as a breakout room, find the error and a solution to them."
      ]
    },
    {
      "cell_type": "code",
      "execution_count": 29,
      "metadata": {
        "id": "3O5o2ucp48KW",
        "outputId": "17e87bfd-be67-4c18-ffb7-bcfd987d2a95",
        "colab": {
          "base_uri": "https://localhost:8080/"
        }
      },
      "outputs": [
        {
          "output_type": "stream",
          "name": "stdout",
          "text": [
            "-- Validate your solution --\n"
          ]
        },
        {
          "output_type": "execute_result",
          "data": {
            "text/plain": [
              "True"
            ]
          },
          "metadata": {},
          "execution_count": 29
        }
      ],
      "source": [
        "# 1. Solution must be \"True\"\n",
        "multiple_list = [[1,2,3],4,5,6,(7,8,9)]\n",
        "\n",
        "print('-- Validate your solution --')\n",
        "len(multiple_list)==5 and (7,8,9) in multiple_list"
      ]
    },
    {
      "cell_type": "code",
      "execution_count": 32,
      "metadata": {
        "id": "lFbwEaf248KW",
        "outputId": "ea44b942-eff8-490a-c19f-26d01fad85e7",
        "colab": {
          "base_uri": "https://localhost:8080/"
        }
      },
      "outputs": [
        {
          "output_type": "stream",
          "name": "stdout",
          "text": [
            "-- Validate your solution --\n"
          ]
        },
        {
          "output_type": "execute_result",
          "data": {
            "text/plain": [
              "True"
            ]
          },
          "metadata": {},
          "execution_count": 32
        }
      ],
      "source": [
        "# 2. Solution must be \"True\"\n",
        "# Hint: add the string * new list * to the end of multiple_list\n",
        "multiple_list.append('new list')\n",
        "\n",
        "print('-- Validate your solution --')\n",
        "type(multiple_list[-1]) == str"
      ]
    },
    {
      "cell_type": "code",
      "execution_count": 33,
      "metadata": {
        "id": "yGVWZ2Y-48KW",
        "outputId": "834ae0b0-aac0-43f4-ef4f-cb2c63aa366f",
        "colab": {
          "base_uri": "https://localhost:8080/"
        }
      },
      "outputs": [
        {
          "output_type": "stream",
          "name": "stdout",
          "text": [
            "-- Validate your solution --\n"
          ]
        },
        {
          "output_type": "execute_result",
          "data": {
            "text/plain": [
              "False"
            ]
          },
          "metadata": {},
          "execution_count": 33
        }
      ],
      "source": [
        "# 3. Solution must be \"True\"\n",
        "# Your code here\n",
        "\n",
        "print('-- Validate your solution --')\n",
        "multiple_list[-1] == 'new list'"
      ]
    },
    {
      "cell_type": "code",
      "execution_count": 37,
      "metadata": {
        "id": "p0E6lJDr48KW",
        "outputId": "63313264-fe4e-4741-86d7-a8838c4d5be9",
        "colab": {
          "base_uri": "https://localhost:8080/"
        }
      },
      "outputs": [
        {
          "output_type": "stream",
          "name": "stdout",
          "text": [
            "-- Validate your solution --\n"
          ]
        },
        {
          "output_type": "execute_result",
          "data": {
            "text/plain": [
              "True"
            ]
          },
          "metadata": {},
          "execution_count": 37
        }
      ],
      "source": [
        "# 4. Solution must be \"True\"\n",
        "# Hint: create a dictionary with numerical even numbers as keys and the next odd number as string value\n",
        "## (e.g. 2 and 3 as key and value)\n",
        "even_dic = {2: '3', 4:'5'}\n",
        "print('-- Validate your solution --')\n",
        "type(even_dic) == dict and all(type(key)==int for key in even_dic.keys()) and all(type(val)==str for val in even_dic.values())"
      ]
    },
    {
      "cell_type": "code",
      "execution_count": 40,
      "metadata": {
        "id": "qofJsJpx48KW",
        "outputId": "ce5fa7b8-f6cd-4529-a544-4f0a13a34a57",
        "colab": {
          "base_uri": "https://localhost:8080/"
        }
      },
      "outputs": [
        {
          "output_type": "stream",
          "name": "stdout",
          "text": [
            "-- Validate your solution --\n"
          ]
        },
        {
          "output_type": "execute_result",
          "data": {
            "text/plain": [
              "True"
            ]
          },
          "metadata": {},
          "execution_count": 40
        }
      ],
      "source": [
        "# 5. Solution must be \"True\"\n",
        "# Hint: add a key-value to even_dic\n",
        "even_dic[3] = '4'\n",
        "print('-- Validate your solution --')\n",
        "3 in even_dic.keys()"
      ]
    },
    {
      "cell_type": "markdown",
      "metadata": {
        "id": "rsSMw_kX48KW"
      },
      "source": [
        "<b><font color='blue'> How did you fix the previous code?"
      ]
    },
    {
      "cell_type": "code",
      "execution_count": null,
      "metadata": {
        "id": "mOrne1OX48KW"
      },
      "outputs": [],
      "source": [
        "# 1.\n",
        "#len of list is 5 and switched from list to tuple to make both statements true"
      ]
    },
    {
      "cell_type": "code",
      "execution_count": null,
      "metadata": {
        "id": "iPiBxgVh48KW"
      },
      "outputs": [],
      "source": [
        "# 2.\n",
        "#made the last bit I APPEND not ADD (list.append() not list.add()) a string"
      ]
    },
    {
      "cell_type": "code",
      "execution_count": null,
      "metadata": {
        "id": "5vorYXXT48KW"
      },
      "outputs": [],
      "source": [
        "# 3.\n",
        "#0 is not new list, the last thing is the string new list"
      ]
    },
    {
      "cell_type": "code",
      "execution_count": null,
      "metadata": {
        "id": "18iFIFTN48KW"
      },
      "outputs": [],
      "source": [
        "# 4.\n",
        "#remember our strucutre for dictionaries!"
      ]
    },
    {
      "cell_type": "code",
      "execution_count": null,
      "metadata": {
        "id": "hVesPK0448KW"
      },
      "outputs": [],
      "source": [
        "# 5.\n",
        "#added 3 as a key. now even dic isnt so even..."
      ]
    },
    {
      "cell_type": "markdown",
      "metadata": {
        "id": "M3go7S2g48KW"
      },
      "source": [
        "<hr>\n",
        "\n",
        "## Additional resources\n",
        "<a href=\"https://swcarpentry.github.io/python-novice-gapminder/11-lists/index.html\">Software Carpentries Lists</a>\n",
        "\n",
        "<a href=\"https://python101.pythonlibrary.org/chapter3_lists_dicts.html\">Python 101: Lists, Tuples, and Dictionaries</a>\n",
        "\n",
        "<a href=\"https://github.com/jakevdp/WhirlwindTourOfPython/blob/6f1daf714fe52a8dde6a288674ba46a7feed8816/06-Built-in-Data-Structures.ipynb\">Whirlwind Tour of Python: Built-In Data Structures</a>\n"
      ]
    },
    {
      "cell_type": "markdown",
      "metadata": {
        "id": "dswWw8Mn48KW"
      },
      "source": [
        "## About this notebook\n",
        "This notebook is largely derived from UCSD COGS18 Materials, created by Tom Donoghue & Shannon Ellis, as well as the <a href=\"https://github.com/jrjohansson/scientific-python-lectures/blob/master/Lecture-1-Introduction-to-Python-Programming.ipynb\">Scientific Python Lecture</a> by J.R. Johansson.\n",
        "\n",
        "Want to run this notebook as a slideshow? If you have Python (or Anaconda) follow <a href=\"http://www.blog.pythonlibrary.org/2018/09/25/creating-presentations-with-jupyter-notebook/\">these instructions</a> to setup your computer with the RISE plugin."
      ]
    }
  ],
  "metadata": {
    "kernelspec": {
      "display_name": "Python 3",
      "language": "python",
      "name": "python3"
    },
    "language_info": {
      "codemirror_mode": {
        "name": "ipython",
        "version": 3
      },
      "file_extension": ".py",
      "mimetype": "text/x-python",
      "name": "python",
      "nbconvert_exporter": "python",
      "pygments_lexer": "ipython3",
      "version": "3.8.8"
    },
    "rise": {
      "theme": "serif"
    },
    "colab": {
      "provenance": []
    }
  },
  "nbformat": 4,
  "nbformat_minor": 0
}