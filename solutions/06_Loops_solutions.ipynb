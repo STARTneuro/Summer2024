{
  "cells": [
    {
      "cell_type": "markdown",
      "metadata": {
        "id": "cQWbKH39Koe1"
      },
      "source": [
        "# Loops\n",
        "\n",
        "In this notebook, we'll learn about a very useful programming skill: writing a loop. We'll use these loops to do several computations and changes with our DNA string."
      ]
    },
    {
      "cell_type": "markdown",
      "metadata": {
        "id": "9OtkgGWuKoe4"
      },
      "source": [
        "### At the end of this notebook, you'll be able to:\n",
        "* [Write a `for` loop to iterate over elements in an object](#for)\n",
        "* Use a `counter` in a loop\n",
        "* [Use a `for` loop to count GC content and CCAAT boxes in a DNA string](#GCcontent)\n",
        "* [Write `while` loops and implement `continue` and `break`](#while)\n",
        "\n",
        "### A loop is a procedure to repeat a piece of code.\n",
        "\n",
        "![](https://external-preview.redd.it/DzwzUEcXvu6DtJ02qvS1UElVcWM259LRgY_l7QtikfA.png?auto=webp&s=dd9657caed7b2cc87e0d1c27769eb38a4101c584)\n",
        "\n",
        "Loops enable you to re-run blocks of code for as many times as you need.\n",
        "\n",
        "Python has two main ways to run loops: `for` & `while`\n",
        "<hr>"
      ]
    },
    {
      "cell_type": "markdown",
      "metadata": {
        "id": "tUCHuJ1HKoe5"
      },
      "source": [
        "<a id=\"For\"></a>\n",
        "\n",
        "## For loops\n",
        "\n",
        "Loops can be written in multiple ways. First, we'll tackle **for loops**.\n",
        "\n",
        "The `for` loop iterates over the elements of the supplied object (a list, range, or a string, e.g.), and executes the containing block once for each element. It has the basic structure below:\n",
        "\n",
        "```\n",
        "for element in object:\n",
        "    (do something)\n",
        " ```\n",
        "\n",
        "![](https://swcarpentry.github.io/python-novice-inflammation/fig/05-loops_image_num.png)\n",
        "\n",
        "We can use `for` loops for various types of objects. Let's look at each of these in turn.\n",
        "\n",
        "### Looping through a string"
      ]
    },
    {
      "cell_type": "code",
      "execution_count": null,
      "metadata": {
        "scrolled": true,
        "id": "Has9GPaEKoe5",
        "outputId": "07961185-7402-48cb-ed50-3e42e5691b05",
        "colab": {
          "base_uri": "https://localhost:8080/"
        }
      },
      "outputs": [
        {
          "output_type": "stream",
          "name": "stdout",
          "text": [
            "h\n",
            "e\n",
            "l\n",
            "l\n",
            "o\n"
          ]
        }
      ],
      "source": [
        "# Looping through a string\n",
        "counter = 0\n",
        "\n",
        "for character in 'hello':\n",
        "    print(character)\n",
        "    counter = counter+1"
      ]
    },
    {
      "cell_type": "markdown",
      "metadata": {
        "id": "dD3LzDQmKoe6"
      },
      "source": [
        "### Looping through a list\n",
        "Looping through a list works similarly."
      ]
    },
    {
      "cell_type": "code",
      "execution_count": null,
      "metadata": {
        "id": "vEq0QMKoKoe7",
        "outputId": "117470c1-087f-46c6-d00a-6700e5ac61bd",
        "colab": {
          "base_uri": "https://localhost:8080/"
        }
      },
      "outputs": [
        {
          "output_type": "stream",
          "name": "stdout",
          "text": [
            "1\n",
            "3\n",
            "5\n",
            "7\n",
            "9\n"
          ]
        }
      ],
      "source": [
        "# Looping through a list\n",
        "odds = [1,3,5,7,9]\n",
        "\n",
        "for num in odds:\n",
        "  print(num)"
      ]
    },
    {
      "cell_type": "markdown",
      "metadata": {
        "id": "PuWLB5R4Koe7"
      },
      "source": [
        "### Looping over Dictionaries\n",
        "We can also use `for` loops to iterate over key-value pairs of a dictionary. What do you think the cell below will output?"
      ]
    },
    {
      "cell_type": "code",
      "execution_count": null,
      "metadata": {
        "scrolled": true,
        "id": "08MIFsWhKoe8",
        "outputId": "3e262f7a-5487-4b79-9242-8755749e0af5",
        "colab": {
          "base_uri": "https://localhost:8080/"
        }
      },
      "outputs": [
        {
          "output_type": "stream",
          "name": "stdout",
          "text": [
            "parameter1 = 1.0\n",
            "parameter2 = 2.0\n",
            "parameter3 = 3.0\n"
          ]
        }
      ],
      "source": [
        "params = {\"parameter1\" : 1.0,\n",
        "          \"parameter2\" : 2.0,\n",
        "          \"parameter3\" : 3.0,}\n",
        "\n",
        "for key, value in params.items():\n",
        "    print(key + \" = \" + str(value))"
      ]
    },
    {
      "cell_type": "markdown",
      "metadata": {
        "id": "lto8XsHdKoe8"
      },
      "source": [
        "### Looping with Range\n",
        "Sometimes it is useful to have access to the indices of the values when iterating over a **range** of numbers. We can use the `enumerate` function for this:"
      ]
    },
    {
      "cell_type": "code",
      "execution_count": null,
      "metadata": {
        "scrolled": true,
        "id": "diKYtbcOKoe9",
        "outputId": "4c3c0bcc-295b-4003-c574-6ad2244fda03",
        "colab": {
          "base_uri": "https://localhost:8080/"
        }
      },
      "outputs": [
        {
          "output_type": "stream",
          "name": "stdout",
          "text": [
            "0 -3\n",
            "1 -2\n",
            "2 -1\n",
            "3 0\n",
            "4 1\n",
            "5 2\n"
          ]
        }
      ],
      "source": [
        "for idx, x in enumerate(range(-3,3)):\n",
        "    print(idx, x)"
      ]
    },
    {
      "cell_type": "markdown",
      "metadata": {
        "id": "xVoxrAo-Koe9"
      },
      "source": [
        "### List Comprehensions\n",
        "Finally, list comprehensions are a very compact way to create lists using a `for` loop. **It is not neccessary to use these**, and they're not very intuitive to look at, but they do help condense lines of code."
      ]
    },
    {
      "cell_type": "code",
      "execution_count": null,
      "metadata": {
        "scrolled": true,
        "id": "FHaeb9T5Koe9",
        "outputId": "33f0bfb0-560f-4708-86ca-9cfae7214afd",
        "colab": {
          "base_uri": "https://localhost:8080/"
        }
      },
      "outputs": [
        {
          "output_type": "stream",
          "name": "stdout",
          "text": [
            "[0, 1, 4, 9, 16]\n"
          ]
        }
      ],
      "source": [
        "# Create a list of values where x is squared for 0, 1, 2, 3, and 4.\n",
        "\n",
        "list_1 = [x**2 for x in range(0,5)]\n",
        "\n",
        "print(list_1)"
      ]
    },
    {
      "cell_type": "markdown",
      "metadata": {
        "id": "3NmNziVzKoe-"
      },
      "source": [
        "> **Test your knowledge!** How many values will be printed from this for loop before it *first* prints “The tea is too hot!”?\n",
        "\n",
        "<font color='red'>**Note**: You'll use this code snippet for the take home assignment!</font>"
      ]
    },
    {
      "cell_type": "code",
      "execution_count": null,
      "metadata": {
        "id": "CC8oUCjjKoe-",
        "outputId": "2d3802c5-452e-4c08-8635-dc2125eb270e",
        "colab": {
          "base_uri": "https://localhost:8080/"
        }
      },
      "outputs": [
        {
          "output_type": "stream",
          "name": "stdout",
          "text": [
            "114\n",
            "115\n",
            "116\n",
            "The tea is too hot!\n",
            "117\n",
            "The tea is too hot!\n",
            "118\n",
            "The tea is too hot!\n"
          ]
        }
      ],
      "source": [
        "temperatures = [114, 115, 116, 117, 118]\n",
        "\n",
        "for temp in temperatures:\n",
        "    print(temp)\n",
        "\n",
        "    if temp > 115:\n",
        "        print('The tea is too hot!')"
      ]
    },
    {
      "cell_type": "markdown",
      "metadata": {
        "id": "Oi0zBGr4Koe-"
      },
      "source": [
        "<font color='blue'><b>Breakout room task:</b> Write the *Python* code for <a href=\"https://i.redd.it/q9qc6bjzqr741.png\">the image below</a>.</font>\n",
        "\n",
        "![](https://i.redd.it/q9qc6bjzqr741.png)"
      ]
    },
    {
      "cell_type": "code",
      "execution_count": null,
      "metadata": {
        "id": "Mr785EfYKoe_",
        "outputId": "b123a1fc-56c4-47ae-977e-c0aed1af67e6",
        "colab": {
          "base_uri": "https://localhost:8080/"
        }
      },
      "outputs": [
        {
          "output_type": "stream",
          "name": "stdout",
          "text": [
            "I'm in.\n",
            "I'm in.\n",
            "I'm in.\n",
            "I'm out.\n"
          ]
        }
      ],
      "source": [
        "# Write your code here\n",
        "counter = 0\n",
        "\n",
        "for i in range(4):\n",
        "  if i < 3:\n",
        "    print(\"I'm in.\")\n",
        "  else:\n",
        "    print(\"I'm out.\")"
      ]
    },
    {
      "cell_type": "markdown",
      "metadata": {
        "id": "LxXdiuKOKoe_"
      },
      "source": [
        "<a id=\"GCcontent\"></a>\n",
        "\n",
        "## Computing GC content with a loop\n",
        "\n",
        "Let's get back to our question of computing GC content. We can write a simple function to loop over a string, as follows:"
      ]
    },
    {
      "cell_type": "code",
      "execution_count": null,
      "metadata": {
        "id": "KnBTwnAWKoe_"
      },
      "outputs": [],
      "source": [
        "# Define function\n",
        "def length(my_string):                     # Define the function\n",
        "    '''Computes length of input string'''  # Include a doc string\n",
        "    counter = 0                            # Initialize the counter\n",
        "    for character in my_string:            # First, assign the item in my_string to \"character\"\n",
        "        print(character)                   # Then, print character\n",
        "        counter = counter+1                # Then, increment the counter and go back to next item in my_string.\n",
        "    return counter                         # Return the final counter, once there are no more items in my_string"
      ]
    },
    {
      "cell_type": "code",
      "execution_count": null,
      "metadata": {
        "id": "0316TVqzKoe_",
        "outputId": "504f368f-eae5-45b1-cb7f-e01ddddaec88",
        "colab": {
          "base_uri": "https://localhost:8080/"
        }
      },
      "outputs": [
        {
          "output_type": "stream",
          "name": "stdout",
          "text": [
            "G\n",
            "G\n",
            "C\n",
            "A\n",
            "T\n"
          ]
        },
        {
          "output_type": "execute_result",
          "data": {
            "text/plain": [
              "5"
            ]
          },
          "metadata": {},
          "execution_count": 10
        }
      ],
      "source": [
        "# Run function\n",
        "length('GGCAT')"
      ]
    },
    {
      "cell_type": "markdown",
      "metadata": {
        "id": "SNP8fbjFKofA"
      },
      "source": [
        "This function counts the length of the string, but doesn't count the GC content."
      ]
    },
    {
      "cell_type": "markdown",
      "metadata": {
        "id": "jz3VqE1XKofA"
      },
      "source": [
        "<div class=\"alert alert-success\"><b>Task</b>: Let's put it all together! Write a function (<code>computeGCcontent</code>) that can compute the GC content of a DNA string, regardless of the length.</div>"
      ]
    },
    {
      "cell_type": "code",
      "execution_count": null,
      "metadata": {
        "id": "geOHVIUTKofA",
        "outputId": "63834ca3-22a3-452c-be0c-a3ef95a18f38",
        "colab": {
          "base_uri": "https://localhost:8080/"
        }
      },
      "outputs": [
        {
          "output_type": "execute_result",
          "data": {
            "text/plain": [
              "0.4"
            ]
          },
          "metadata": {},
          "execution_count": 11
        }
      ],
      "source": [
        "# Write your function here\n",
        "def computeGCcontent(DNA):\n",
        "\n",
        "  counter = 0\n",
        "\n",
        "  for nuc in DNA:\n",
        "    if nuc == 'G' or nuc == 'C':\n",
        "      counter = counter + 1\n",
        "\n",
        "  return counter/len(DNA)\n",
        "\n",
        "computeGCcontent('GCTAA')"
      ]
    },
    {
      "cell_type": "markdown",
      "metadata": {
        "id": "z-oCvCxXKofA"
      },
      "source": [
        "### Side note: Membership Operators\n",
        "We can use the membership operators `in` and `not in` to compare membership. These operators return booleans. Membership operators are used to check whether a value or variable is found in a sequence. We can use this to check for membership in strings, as well as in lists.\n",
        "\n",
        "Today, we'll use this special keyword `in` as an operator in our loops as well."
      ]
    },
    {
      "cell_type": "code",
      "execution_count": null,
      "metadata": {
        "scrolled": false,
        "id": "q9_oMRWfKofA",
        "outputId": "2378f6c0-8b1e-483f-b0fe-6dd17fd68a5e",
        "colab": {
          "base_uri": "https://localhost:8080/"
        }
      },
      "outputs": [
        {
          "output_type": "stream",
          "name": "stdout",
          "text": [
            "True\n"
          ]
        }
      ],
      "source": [
        "my_dna = 'ATGCAA'\n",
        "print('C' in my_dna)"
      ]
    },
    {
      "cell_type": "markdown",
      "metadata": {
        "id": "KE0S6EqQKofB"
      },
      "source": [
        "While this is a useful way to check for one nucleotide, it doesn't help us *count* how many there are. We can also use many different if/elif/else statements, but this can easily get cumbersome with long strings of DNA.\n",
        "\n",
        "To count GC content (or do many other repetitive tasks), loops are much more useful."
      ]
    },
    {
      "cell_type": "markdown",
      "metadata": {
        "id": "dqR3f3M8KofB"
      },
      "source": [
        "### Side note: Converting single items in a string\n",
        "We can also use `for` loops to convert items in the string. You may recall that RNA has the same nucleotides as DNA except it uses uracil (U) instead of thymine (T). So, the DNA string 'TTACG' would be 'UUACG' in RNA."
      ]
    },
    {
      "cell_type": "markdown",
      "metadata": {
        "id": "-kTH68GlKofB"
      },
      "source": [
        "><b>Task</b>: Write a function called <code>DNAtoRNA</code> that takes in a string <code>DNA</code> and it converts it to RNA. A skeleton of this function is already below.</div>"
      ]
    },
    {
      "cell_type": "code",
      "execution_count": null,
      "metadata": {
        "id": "RTgXN29gKofB",
        "outputId": "63203d45-cc61-4dbe-eeda-7ad7e2761589",
        "colab": {
          "base_uri": "https://localhost:8080/",
          "height": 36
        }
      },
      "outputs": [
        {
          "output_type": "execute_result",
          "data": {
            "text/plain": [
              "'UCCUAAAUU'"
            ],
            "application/vnd.google.colaboratory.intrinsic+json": {
              "type": "string"
            }
          },
          "metadata": {},
          "execution_count": 13
        }
      ],
      "source": [
        "def DNAtoRNA(DNA):\n",
        "    RNA = '' # Create an empty RNA string\n",
        "\n",
        "    for nuc in DNA:\n",
        "        if nuc == 'T':\n",
        "            RNA = RNA + 'U'\n",
        "        else:\n",
        "            RNA = RNA + nuc\n",
        "\n",
        "    return RNA\n",
        "\n",
        "DNAtoRNA('TCCTAAATT')"
      ]
    },
    {
      "cell_type": "markdown",
      "metadata": {
        "id": "CpFNuWE6KofB"
      },
      "source": [
        "As it turns out, there's a useful **method** of strings that does this exact same thing -- in one line of code!\n",
        "> **Task**: Do a Google search to figure out how to replace specific items in a string, and try it below. Hint: search \"replace items in string Python\"."
      ]
    },
    {
      "cell_type": "code",
      "execution_count": null,
      "metadata": {
        "id": "U-y1VujmKofB",
        "outputId": "733218f2-cb92-41cd-be56-208e9c466b0e",
        "colab": {
          "base_uri": "https://localhost:8080/",
          "height": 36
        }
      },
      "outputs": [
        {
          "output_type": "execute_result",
          "data": {
            "text/plain": [
              "'AUGCAA'"
            ],
            "application/vnd.google.colaboratory.intrinsic+json": {
              "type": "string"
            }
          },
          "metadata": {},
          "execution_count": 14
        }
      ],
      "source": [
        "# Test the string method here\n",
        "my_dna.replace('T','U')"
      ]
    },
    {
      "cell_type": "markdown",
      "metadata": {
        "id": "O7jRh6SqKofB"
      },
      "source": [
        "### Loops extension: Finding CCAAT boxes\n",
        "\n",
        "For an extension of our GC content task, here we'll count the # of “CAT” boxes (CCAAT) in a string of DNA. The “CAT” box generally appears near the spot where transcription begins, so it's a useful thing to identify.\n",
        "\n",
        "Above, we wrote a function that will loop over a string, but if we need to look at multiple letters at a time, what we *really* need is one that will loop over the indices in that string."
      ]
    },
    {
      "cell_type": "code",
      "execution_count": null,
      "metadata": {
        "id": "jCIk0tDQKofC",
        "outputId": "6d1144ea-487e-4958-a31d-325f7cc07fb4",
        "colab": {
          "base_uri": "https://localhost:8080/"
        }
      },
      "outputs": [
        {
          "output_type": "stream",
          "name": "stdout",
          "text": [
            "0\n",
            "Found a CCAAT box!\n",
            "7\n",
            "Found a CCAAT box!\n"
          ]
        },
        {
          "output_type": "execute_result",
          "data": {
            "text/plain": [
              "2"
            ]
          },
          "metadata": {},
          "execution_count": 19
        }
      ],
      "source": [
        "# First draft of code\n",
        "counter = 0\n",
        "\n",
        "def countCCAAT(DNA):\n",
        "    counter = 0\n",
        "    for index in range(len(DNA)):\n",
        "        if DNA[index:index+5] == 'CCAAT':\n",
        "          print(index)\n",
        "          print('Found a CCAAT box!')\n",
        "          counter = counter +1\n",
        "\n",
        "    return counter\n",
        "\n",
        "countCCAAT('CCAATGGCCAAT')"
      ]
    },
    {
      "cell_type": "markdown",
      "metadata": {
        "id": "BpPXoriNKofC"
      },
      "source": [
        "> **Task**: Modify the skeleton above by using the index to slice our DNA. For example, the first slice of 5 nucleotides would be `DNA[0:5]`, the second would be `DNA[1:6]`. We can do this programatically!"
      ]
    },
    {
      "cell_type": "markdown",
      "metadata": {
        "id": "1hm47HS8KofC"
      },
      "source": [
        "### Functions can call other functions!\n",
        "\n",
        "What if instead of one DNA string, we'd like to count the CCAAT boxes for multiple DNA strings? We'd essentially like to run our `countCCAAT` function multiple times. You can see how we would implement this below. In this case, it becomes a **helper** function. When `countCCAAT` is called, Python passes it the current DNA string and waits for it to return something."
      ]
    },
    {
      "cell_type": "code",
      "execution_count": null,
      "metadata": {
        "id": "JfSxL2yeKofC"
      },
      "outputs": [],
      "source": [
        "def multicountCCAAT(DNA_list):\n",
        "    '''Prints the # of occurrences of CCAAT in each string in the given DNA list'''\n",
        "\n",
        "    for DNA in DNA_list:\n",
        "        print( countCCAAT(DNA))"
      ]
    },
    {
      "cell_type": "code",
      "execution_count": null,
      "metadata": {
        "id": "mGW04XZlKofC",
        "outputId": "5c51c650-a322-46d1-e535-63e150d5b3ff",
        "colab": {
          "base_uri": "https://localhost:8080/"
        }
      },
      "outputs": [
        {
          "output_type": "stream",
          "name": "stdout",
          "text": [
            "1\n",
            "Found a CCAAT box!\n",
            "1\n",
            "8\n",
            "Found a CCAAT box!\n",
            "13\n",
            "Found a CCAAT box!\n",
            "2\n"
          ]
        }
      ],
      "source": [
        "# Test our function\n",
        "multicountCCAAT(['GCCAATCA','GCCAAAATCCAATCCAAT'])"
      ]
    },
    {
      "cell_type": "markdown",
      "metadata": {
        "id": "qRPhP01aKofC"
      },
      "source": [
        "Another way to implement this idea would be with **nested loops**."
      ]
    },
    {
      "cell_type": "code",
      "execution_count": null,
      "metadata": {
        "id": "hyTvLMaEKofC"
      },
      "outputs": [],
      "source": [
        "def multicountCCAAT_nested(DNA_list):\n",
        "    '''Prints the # of occurrences of CCAAT in each string in the given DNA list'''\n",
        "\n",
        "    for DNA in DNA_list:                        # The outer loop works through each DNA string\n",
        "        counter = 0                             # For each string, reset the counter\n",
        "        for index in range(len(DNA)):           # For each item in the string\n",
        "            if DNA[index:index+5] == 'CCAAT':   # Check whether there is a CCAAT box\n",
        "                counter = counter +1            # If so, implement the counter\n",
        "        print(counter)                          # When you're done with that DNA string, print the counter"
      ]
    },
    {
      "cell_type": "code",
      "execution_count": null,
      "metadata": {
        "id": "k9lySd7rKofD",
        "outputId": "e54be977-4c21-4483-bf7d-832208022a1b",
        "colab": {
          "base_uri": "https://localhost:8080/"
        }
      },
      "outputs": [
        {
          "output_type": "stream",
          "name": "stdout",
          "text": [
            "1\n",
            "2\n"
          ]
        }
      ],
      "source": [
        "# Test our nested function\n",
        "multicountCCAAT_nested(['GCCAATCA','GCCAAAATCCAATCCAAT'])"
      ]
    },
    {
      "cell_type": "markdown",
      "metadata": {
        "id": "WqUY1Nm_KofD"
      },
      "source": [
        "Although the nested function works too, it is not as **modular** as the first one. **Modular** design is where once function calls another function for help, and is generally a good practice when building more and more complex programs."
      ]
    },
    {
      "cell_type": "markdown",
      "metadata": {
        "id": "zEy_0LpjKofD"
      },
      "source": [
        "<a id=\"while\"></a>\n",
        "\n",
        "## Other kinds of loops & related operators\n",
        "\n",
        "### While loops\n",
        "The operator `while` lets you continue to run a loop as long as something is true.\n",
        "\n",
        "While loops always have the structure\n",
        "\n",
        "```\n",
        "while condition:\n",
        "    # Loop contents\n",
        "```"
      ]
    },
    {
      "cell_type": "code",
      "execution_count": null,
      "metadata": {
        "scrolled": true,
        "id": "g5z6F7RSKofD",
        "outputId": "3b1d41c1-deea-400c-ae31-47dc752b7a5c",
        "colab": {
          "base_uri": "https://localhost:8080/"
        }
      },
      "outputs": [
        {
          "output_type": "stream",
          "name": "stdout",
          "text": [
            "still working\n",
            "still working\n",
            "still working\n",
            "still working\n",
            "still working\n",
            "done\n"
          ]
        }
      ],
      "source": [
        "message = 'still working'\n",
        "counter = 0\n",
        "\n",
        "while counter < 5:\n",
        "    print(message)\n",
        "\n",
        "    counter = counter + 1\n",
        "\n",
        "print(\"done\")"
      ]
    },
    {
      "cell_type": "code",
      "execution_count": null,
      "metadata": {
        "id": "0Gkn5PToKofD",
        "outputId": "235e6936-39cc-49f6-826f-7bfc7bb58c30",
        "colab": {
          "base_uri": "https://localhost:8080/"
        }
      },
      "outputs": [
        {
          "output_type": "stream",
          "name": "stdout",
          "text": [
            "-5\n",
            "-4\n",
            "-3\n",
            "-2\n",
            "-1\n"
          ]
        }
      ],
      "source": [
        "# Another example\n",
        "\n",
        "number = -5\n",
        "\n",
        "while number < 0:\n",
        "    print(number)\n",
        "    number = number + 1  # must have code to make condition evaluate as False at some point"
      ]
    },
    {
      "cell_type": "markdown",
      "metadata": {
        "id": "C6V_yYCHKofD"
      },
      "source": [
        "> **Test your knowledge!** How many temperature values will be output from this `while` loop before “The tea is cool enough.” is printed?"
      ]
    },
    {
      "cell_type": "code",
      "execution_count": null,
      "metadata": {
        "id": "Hi6Y2NnCKofE",
        "outputId": "971654a5-cd6e-449e-8073-23c463719bd1",
        "colab": {
          "base_uri": "https://localhost:8080/"
        }
      },
      "outputs": [
        {
          "output_type": "stream",
          "name": "stdout",
          "text": [
            "115\n",
            "114\n",
            "113\n",
            "The tea is cool enough.\n"
          ]
        }
      ],
      "source": [
        "temperature = 115\n",
        "\n",
        "while temperature > 112:\n",
        "    print(temperature)\n",
        "    temperature = temperature - 1\n",
        "\n",
        "print('The tea is cool enough.')"
      ]
    },
    {
      "cell_type": "markdown",
      "metadata": {
        "id": "aNJDO50HKofE"
      },
      "source": [
        "### Continue operator\n",
        "<code>continue</code> is a special operator to jump ahead to the next iteration of a loop."
      ]
    },
    {
      "cell_type": "code",
      "execution_count": null,
      "metadata": {
        "scrolled": true,
        "id": "266nGxnYKofE",
        "outputId": "601b4039-48cf-4176-c2f2-0fe13ba5bc67",
        "colab": {
          "base_uri": "https://localhost:8080/"
        }
      },
      "outputs": [
        {
          "output_type": "stream",
          "name": "stdout",
          "text": [
            "0\n",
            "1\n",
            "3\n"
          ]
        }
      ],
      "source": [
        "lst = [0, 1, 2, 3]\n",
        "\n",
        "for item in lst:\n",
        "\n",
        "    if item == 2:\n",
        "        continue\n",
        "\n",
        "    print(item)"
      ]
    },
    {
      "cell_type": "code",
      "execution_count": null,
      "metadata": {
        "id": "VLGZSmF9KofE",
        "outputId": "4f515131-aa31-49b6-e138-f9ca66617e30",
        "colab": {
          "base_uri": "https://localhost:8080/"
        }
      },
      "outputs": [
        {
          "output_type": "stream",
          "name": "stdout",
          "text": [
            "0\n",
            "1\n",
            "3\n"
          ]
        }
      ],
      "source": [
        "lst = [0, 1, 2, 3]\n",
        "\n",
        "for item in lst:\n",
        "\n",
        "    if item != 2:\n",
        "        print(item)"
      ]
    },
    {
      "cell_type": "markdown",
      "metadata": {
        "id": "TSuPXXchKofE"
      },
      "source": [
        "### Break operator\n",
        "`break` is a special operator to exit a loop. It's useful when you'd like to stop running a loop once you've hit a certain threshold or value."
      ]
    },
    {
      "cell_type": "code",
      "execution_count": null,
      "metadata": {
        "scrolled": true,
        "id": "0hbHo4FjKofE",
        "outputId": "e5d6ef63-2c0d-45ba-bab4-35224ecdbf6d",
        "colab": {
          "base_uri": "https://localhost:8080/"
        }
      },
      "outputs": [
        {
          "output_type": "stream",
          "name": "stdout",
          "text": [
            "0\n",
            "1\n"
          ]
        }
      ],
      "source": [
        "lst = [0, 1, 2, 3]\n",
        "\n",
        "for item in lst:\n",
        "\n",
        "    if item == 2:\n",
        "        break\n",
        "\n",
        "    print(item)"
      ]
    },
    {
      "cell_type": "markdown",
      "metadata": {
        "id": "_4RvtgwmKofE"
      },
      "source": [
        "<img src=\"https://media2.giphy.com/media/kKLoC2AdoTftSgzR0O/source.gif\" alt=\"russiandollgif\" width=\"200\" height=\"200\">\n",
        "\n",
        "## Interrupting a kernel\n",
        "Writing loops is sometimes tricky, and one error in your code might leave you trapped in an infinite loop.\n"
      ]
    },
    {
      "cell_type": "code",
      "execution_count": null,
      "metadata": {
        "scrolled": true,
        "id": "dM4HS4YDKofE"
      },
      "outputs": [],
      "source": [
        "a = 1\n",
        "\n",
        "while a == 1:\n",
        "    print('AAAHHHH')"
      ]
    },
    {
      "cell_type": "markdown",
      "metadata": {
        "id": "-3U0jexgKofF"
      },
      "source": [
        "_What happens if you get stuck in a forever loop and can't escape?_\n",
        "\n",
        "If there is a star next to the `In[ ]*:` at left, that means your cell is running. Similarly, if the circle next to Python3 is filled, the Kernel is busy.\n",
        "\n",
        "Use <b>Kernel > Interrupt</b> to stop the notebook. You can also use <b>Cell > Current Outputs > Clear</b> to clear your slate.\n",
        "\n",
        "It can be useful to clear and re-launch the kernel. You can do this from the 'kernel' drop down menu, at the top, optionally also clearing all ouputs. Note that this will erase any variables that are stored in memory."
      ]
    },
    {
      "cell_type": "markdown",
      "metadata": {
        "id": "awtAi3jGKofF"
      },
      "source": [
        "<hr>\n",
        "\n",
        "## Additional loops practice\n",
        "\n",
        "1. Write a function `count_odd()` containing a loop that will **add** all the odd numbers for the input range together.\n",
        "\n",
        "2. Write a function `count_vowels()` containing a loop that will loop through all the letters in `my_name` (the input parameter) and count all the vowels in your name. (**Note**: This is in the take home assignment).\n",
        "\n",
        "3. Write a function `create_dictionary` that takes two input lists `lst_1` and `lst_2`. Inside the function, join the two lists to form a dictionary `joined_dictionary` where the first element in `lst_1` is the first key in `joined_dictionary` and the the first element in `lst_2` is the first value in joined_dictionary and so on and so forth. Then return `joined_dictionary` as the output."
      ]
    },
    {
      "cell_type": "markdown",
      "metadata": {
        "id": "RPPLKp8PKofF"
      },
      "source": [
        "<hr>\n",
        "\n",
        "## About this notebook\n",
        "This notebook is largely inspired by [*Computing for Biologists*](https://www.cambridge.org/highereducation/books/computing-for-biologists/5B08EEEE2AE8A602113A8F225E89F5FD#overview) by Libeskind-Hadas & Bush as well as [UCSD COGS18 Materials](https://cogs18.github.io/materials/09-Loops.html), created by Tom Donoghue & Shannon Ellis."
      ]
    }
  ],
  "metadata": {
    "kernelspec": {
      "display_name": "Python 3",
      "language": "python",
      "name": "python3"
    },
    "language_info": {
      "codemirror_mode": {
        "name": "ipython",
        "version": 3
      },
      "file_extension": ".py",
      "mimetype": "text/x-python",
      "name": "python",
      "nbconvert_exporter": "python",
      "pygments_lexer": "ipython3",
      "version": "3.7.3"
    },
    "rise": {
      "theme": "serif"
    },
    "colab": {
      "name": "06-Loops.ipynb",
      "provenance": []
    }
  },
  "nbformat": 4,
  "nbformat_minor": 0
}